{
 "cells": [
  {
   "cell_type": "code",
   "execution_count": 1,
   "metadata": {
    "collapsed": true,
    "deletable": true,
    "editable": true
   },
   "outputs": [],
   "source": [
    "import pandas as pd\n",
    "from readwrite import process_sourcefile"
   ]
  },
  {
   "cell_type": "code",
   "execution_count": 4,
   "metadata": {
    "collapsed": true,
    "deletable": true,
    "editable": true
   },
   "outputs": [],
   "source": [
    "sourcefile = 'timetrialfull.csv'"
   ]
  },
  {
   "cell_type": "code",
   "execution_count": 5,
   "metadata": {
    "collapsed": false,
    "deletable": true,
    "editable": true
   },
   "outputs": [],
   "source": [
    "df = pd.read_csv(sourcefile, parse_dates=['Date'], dayfirst=True)"
   ]
  },
  {
   "cell_type": "code",
   "execution_count": 6,
   "metadata": {
    "collapsed": false,
    "deletable": true,
    "editable": true
   },
   "outputs": [
    {
     "name": "stdout",
     "output_type": "stream",
     "text": [
      "0 Alison Hartley 10.43\n",
      "1 Brian Perfitt 9.02\n",
      "2 Christopher Stanhope 7.84\n",
      "3 Claire Downey 10.17\n",
      "4 Claire Tailford 7.88\n",
      "5 Craig Bingham 7.75\n",
      "6 Gareth Harland 8.61\n",
      "7 Harpal Singh 10.54\n",
      "8 James Goodall 6.17\n",
      "9 Marc Steele 8.76\n",
      "10 Paul Stanhope 6.85\n",
      "11 Sarah Rawlings 8.59\n",
      "12 Shihab Basit 7.73\n",
      "13 Alison Hartley 9.97\n",
      "14 Basit Khalid 9.9\n",
      "15 Brian Perfitt 7.93\n",
      "16 Christine Rhodes 13.18\n",
      "17 Claire Tailford 7.79\n",
      "18 Gareth Harland 9.36\n",
      "19 Marc Steele 8.05\n",
      "20 Merane Todd 9.96\n",
      "21 Paul Stanhope 7.22\n",
      "22 Sarah Rawlings 9.36\n",
      "23 Steve Gledhill 8.08\n",
      "24 Trevor Rhodes 7.63\n",
      "25 Tricia Grant 13.18\n",
      "26 Vanessa Groom 9.74\n",
      "27 Alison Hartley 9.99\n",
      "28 Amanda Wrigglesworth 12.66\n",
      "29 Amy Wrigglesworth 12.48\n",
      "30 Basit Khalid 12.74\n",
      "31 Chris Everett 8.0\n",
      "32 Claire Tailford 7.73\n",
      "33 Craig Bingham 7.66\n",
      "34 Gareth Harland 9.12\n",
      "35 Joann Sahni 10.34\n",
      "36 John D 7.76\n",
      "37 Katie Wrigglesworth 12.73\n",
      "38 Lorraine McKnight 10.36\n",
      "39 Marc Steele 8.23\n",
      "40 Robert Sutton 7.97\n",
      "41 Sara Basit 12.72\n",
      "42 Sarah Rawlings 9.11\n",
      "43 Tim Wrigglesworth 12.73\n",
      "44 Amanda Wrigglesworth 12.34\n",
      "45 Amy Wrigglesworth 12.33\n",
      "46 Angela Storey 12.69\n",
      "47 Christine Rhodes 11.21\n",
      "48 Craig Bingham 7.75\n",
      "49 Ian Storey 8.59\n",
      "50 Katie Wrigglesworth 12.68\n",
      "51 Liz Robinson 8.87\n",
      "52 Lorraine McKnight 10.73\n",
      "53 Marc Steele 8.32\n",
      "54 Rachel Rostron 10.49\n",
      "55 Sam Robinson 8.99\n",
      "56 Trevor Rhodes 8.97\n",
      "57 Alison Hartley 9.64\n",
      "58 Angela Storey 12.15\n",
      "59 Basit Khalid 11.44\n",
      "60 Brian Perfitt 7.57\n",
      "61 Chris Everett 8.55\n",
      "62 Christine Rhodes 11.03\n",
      "63 David Sheppard 10.98\n",
      "64 Gareth Harland 8.51\n",
      "65 Garry Ellison 7.53\n",
      "66 Hazel Murgatroyd 9.87\n",
      "67 Ian Stow 7.26\n",
      "68 James Kilkenny 8.55\n",
      "69 Jayne Robinson 10.19\n",
      "70 Liz Robinson 8.3\n",
      "71 Lorraine McKnight 10.26\n",
      "72 Marc Steele 8.47\n",
      "73 Nicola Burton 11.28\n",
      "74 Rebecca Trueman 9.43\n",
      "75 Sarah Rawlings 8.58\n",
      "76 Shihab Basit 6.93\n",
      "77 Steve Gledhill 7.96\n",
      "78 Trevor Rhodes 6.79\n",
      "79 Alison Hartley 9.32\n",
      "80 Alison Rawson 12.47\n",
      "81 Amanda Wrigglesworth 10.56\n",
      "82 Amy Wrigglesworth 11.39\n",
      "83 Angela Charge 14.77\n",
      "84 Angela Storey 11.54\n",
      "85 Barbara Stow 10.83\n",
      "86 Basit Khalid 12.38\n",
      "87 Brian Perfitt 7.47\n",
      "88 Chris Everett 8.17\n",
      "89 Christine Rhodes 14.76\n",
      "90 Emma Denton 12.47\n",
      "91 Gareth Harland 8.39\n",
      "92 Garry Ellison 7.12\n",
      "93 Gary Popple 8.43\n",
      "94 Gillian Jago 8.34\n",
      "95 Harjyot Hayer 9.27\n",
      "96 Ian Storey 8.09\n",
      "97 Ian Stow 7.16\n",
      "98 James Kilkenny 8.18\n",
      "99 Jennifer Briedis 10.97\n",
      "100 Katie Wrigglesworth 12.52\n",
      "101 Liz Robinson 7.86\n",
      "102 Marc Steele 7.87\n",
      "103 Mary Coulton 10.01\n",
      "104 Michelle Barstow 10.97\n",
      "105 Rachel Rostron 9.71\n",
      "106 Rachel Smith 8.42\n",
      "107 Sara Basit 12.38\n",
      "108 Sarah Rawlings 8.54\n",
      "109 Sharon Popple 11.9\n",
      "110 Suzanne Woods 10.01\n",
      "111 Tim Wrigglesworth 12.52\n",
      "112 Trevor Rhodes 7.01\n",
      "113 Tricia Grant 12.53\n",
      "114 Alison Hartley 10.3\n",
      "115 Amanda Wrigglesworth 13.06\n",
      "116 Angela Storey 11.76\n",
      "117 Barbara Stow 10.27\n",
      "118 Basit Khalid 12.88\n",
      "119 Brian Perfitt 7.67\n",
      "120 Christine Rhodes 11.56\n",
      "121 Claire Tailford 9.02\n",
      "122 Clare Fletcher 10.84\n",
      "123 Gary Popple 8.33\n",
      "124 Gillian Brown 10.06\n",
      "125 Ian Storey 8.06\n",
      "126 Ian Stow 7.47\n",
      "127 James Kilkenny 7.99\n",
      "128 Jayne Robinson 9.27\n",
      "129 Jon Robinson 8.18\n",
      "130 Katie Wrigglesworth 13.05\n",
      "131 Lorraine McKnight 9.79\n",
      "132 Marc Steele 8.19\n",
      "133 Mary Coulton 10.3\n",
      "134 Michelle Barstow 8.76\n",
      "135 Rebecca Trueman 9.71\n",
      "136 Robert Popple 8.9\n",
      "137 Sam Robinson 8.33\n",
      "138 Sara Basit 12.88\n",
      "139 Sarah Rawlings 8.26\n",
      "140 Susan Woodward 11.37\n",
      "141 Taylor Waddell 6.18\n",
      "142 Trevor Rhodes 6.99\n",
      "143 Tricia Grant 13.04\n",
      "144 Christine Rhodes 11.61\n",
      "145 Claire Downey 9.33\n",
      "146 Craig Bingham 7.36\n",
      "147 Gary Popple 8.99\n",
      "148 Ian Stow 7.52\n",
      "149 James Kilkenny 7.93\n",
      "150 Katie Wrigglesworth 11.93\n",
      "151 Liz Robinson 9.03\n",
      "152 Nav Unknown 8.98\n",
      "153 Rachel Smith 8.39\n",
      "154 Robert Popple 8.25\n",
      "155 Sam Robinson 8.97\n",
      "156 Steve Gledhill 7.61\n",
      "157 Trevor Rhodes 7.59\n",
      "158 Alison Hartley 10.28\n",
      "159 Amy Wrigglesworth 12.52\n",
      "160 Angela Storey 11.76\n",
      "161 Barbara Stow 10.39\n",
      "162 Brian Perfitt 7.85\n",
      "163 Claire Tailford 8.57\n",
      "164 Emma Denton 11.77\n",
      "165 Gary Popple 8.14\n",
      "166 Gillian Jago 8.59\n",
      "167 Ian Stow 7.38\n",
      "168 James Kilkenny 7.78\n",
      "169 Jayne Robinson 8.83\n",
      "170 Katie Wrigglesworth 12.34\n",
      "171 Linda Bussey 13.08\n",
      "172 Liz Robinson 8.38\n",
      "173 Lorraine McKnight 10.28\n",
      "174 Marc Steele 7.71\n",
      "175 Paul Stanhope 7.01\n",
      "176 Rachel Rostron 11.77\n",
      "177 Rachel Smith 8.61\n",
      "178 Sam Robinson 8.36\n",
      "179 Sarah Rawlings 8.42\n",
      "180 Sharon Popple 12.51\n",
      "181 Taylor Waddell 6.1\n",
      "182 Trevor Rhodes 6.82\n",
      "183 Amanda Wrigglesworth 12.66\n",
      "184 Amy Wrigglesworth 11.51\n",
      "185 Angela Charge 15.12\n",
      "186 Barbara Stow 10.44\n",
      "187 Basit Khalid 10.74\n",
      "188 Brian Perfitt 8.78\n",
      "189 Gareth Harland 8.46\n",
      "190 Gary Popple 8.16\n",
      "191 Gillian Jago 8.63\n",
      "192 Ian Stow 7.34\n",
      "193 James Kilkenny 7.44\n",
      "194 James Thomas 12.8\n",
      "195 Jayne Robinson 8.67\n",
      "196 Katie Wrigglesworth 12.7\n",
      "197 Liz Robinson 8.38\n",
      "198 Lorraine McKnight 10.56\n",
      "199 Marc Steele 7.53\n",
      "200 Martin Steele 9.29\n",
      "201 Sam Robinson 8.33\n",
      "202 Sarah Goddard 7.77\n",
      "203 Sarah Griffin 8.86\n",
      "204 Sarah Rawlings 8.46\n",
      "205 Shihab Basit 7.31\n",
      "206 Steve Gledhill 7.69\n",
      "207 Taylor Waddell 6.35\n",
      "208 Tim Wrigglesworth 11.51\n",
      "209 Trevor Rhodes 12.8\n",
      "210 Alison Hartley 10.25\n",
      "211 Angela Storey 11.95\n",
      "212 Barbara Stow 10.43\n",
      "213 Basit Khalid 13.28\n",
      "214 Claire Tailford 8.53\n",
      "215 Emma Denton 11.98\n",
      "216 Gyorgy Imris 7.29\n",
      "217 Ian Stow 7.21\n",
      "218 James Kilkenny 7.56\n",
      "219 Jayne Robinson 8.67\n",
      "220 Julie Steele 9.41\n",
      "221 Marc Steele 7.49\n",
      "222 Martin Steele 9.4\n",
      "223 Peter Downes 8.28\n",
      "224 Rachel Rostron 11.97\n",
      "225 Rachel Smith 8.63\n",
      "226 Sara Basit 13.28\n",
      "227 Sarah Rawlings 9.01\n",
      "228 Steve Gledhill 7.86\n",
      "229 Taylor Waddell 6.24\n",
      "230 Angela Storey 11.59\n",
      "231 Brian Perfitt 8.42\n",
      "232 Christine Rhodes 12.09\n",
      "233 Dan Mackenzie 7.33\n",
      "234 Debra Grant 9.99\n",
      "235 Faye Corrigan 10.01\n",
      "236 Gary Popple 7.97\n",
      "237 Gyorgy Imris 7.33\n",
      "238 Ian Stow 7.24\n",
      "239 James Kilkenny 7.2\n",
      "240 James Thomas 10.59\n",
      "241 Jayne Robinson 8.43\n",
      "242 Jenny Rogers-Thomas 10.43\n",
      "243 Katie Wrigglesworth 11.45\n",
      "244 Rachel Rostron 9.89\n",
      "245 Robert Sutton 8.06\n",
      "246 Steve Gledhill 7.66\n",
      "247 Taylor Waddell 6.27\n",
      "248 Tim Wrigglesworth 11.46\n",
      "249 Tracey Corrigan 11.51\n",
      "250 Trevor Rhodes 7.09\n",
      "251 Tricia Grant 12.11\n",
      "252 Aaron 9.36\n",
      "253 Amanda Wrigglesworth 11.62\n",
      "254 Basit Khalid 11.75\n",
      "255 Brian Perfitt 7.72\n",
      "256 Caroline Hardaker 9.27\n",
      "257 Carson Steele 9.27\n",
      "258 Christopher Stanhope 9.31\n",
      "259 Claire Tailford 7.92\n",
      "260 Debra Grant 9.93\n",
      "261 Gyorgy Imris 7.41\n",
      "262 Helen Freeman 8.97\n",
      "263 Ian Stow 6.96\n",
      "264 James Kilkenny 7.5\n",
      "265 Jenny Rogers-Thomas 10.32\n",
      "266 Kathryn Lucas 12.57\n",
      "267 Katie Wrigglesworth 11.64\n",
      "268 Lazzlo 6.93\n",
      "269 Marc Steele 7.34\n",
      "270 Rachel Smith 8.14\n",
      "271 Rhea Sutcliffe 7.39\n",
      "272 Steve Gledhill 7.67\n",
      "273 Trevor Rhodes 6.74\n",
      "274 Tricia Grant 12.56\n",
      "275 Amanda Wrigglesworth 13.24\n",
      "276 Angela Cunningham 13.08\n",
      "277 Carol Green 7.87\n",
      "278 Caroline Ward 13.23\n",
      "279 Gary Popple 8.2\n",
      "280 Jayne Robinson 9.64\n",
      "281 Katie Wrigglesworth 11.71\n",
      "282 Laura Cunningham 11.72\n",
      "283 Russel Naylor 6.95\n",
      "284 Sarah Rawlings 11.73\n",
      "285 Tim Wrigglesworth 8.79\n",
      "286 Amanda Wrigglesworth 12.12\n",
      "287 Angela Cunningham 12.08\n",
      "288 Carol Green 7.7\n",
      "289 Caroline Ward 12.14\n",
      "290 Daniel Kirkham 9.73\n",
      "291 Davinda 15.25\n",
      "292 Gary Popple 8.42\n",
      "293 Ian Dowsland 8.08\n",
      "294 Ian Stow 7.16\n",
      "295 Jayne Robinson 8.64\n",
      "296 Katie Wrigglesworth 12.11\n",
      "297 Marc Steele 7.65\n",
      "298 Mark Hayward 7.94\n",
      "299 Martin Steele 8.46\n",
      "300 Robert Sutton 7.75\n",
      "301 Trevor Rhodes 6.76\n",
      "302 Alison Hartley 12.06\n",
      "303 Angela Cunningham 11.08\n",
      "304 Basit Khalid 11.46\n",
      "305 Caroline Ward 12.07\n",
      "306 Cathryn Smith 11.22\n",
      "307 Christopher Stanhope 9.33\n",
      "308 Claire Downey 9.72\n",
      "309 Debra Grant 9.92\n",
      "310 Gareth Harland 7.12\n",
      "311 Gary Popple 8.49\n",
      "312 Ian Stow 7.31\n",
      "313 James Kilkenny 7.31\n",
      "314 Jayne Robinson 8.54\n",
      "315 Julie Steele 9.09\n",
      "316 Marc Steele 7.62\n",
      "317 Martin Steele 8.12\n",
      "318 Sarah Rawlings 8.26\n",
      "319 Steve Gledhill 7.67\n",
      "320 Amanda Wrigglesworth 11.69\n",
      "321 Amy Wrigglesworth 12.09\n",
      "322 Angela Storey 14.19\n",
      "323 Anne Blakey 12.43\n",
      "324 Cathryn Smith 10.36\n",
      "325 Chris Everett 8.36\n",
      "326 Christine Rhodes 11.88\n",
      "327 Debbie Bland 8.43\n",
      "328 Ian Storey 8.21\n",
      "329 James Kilkenny 7.33\n",
      "330 Jennifer Briedis 9.76\n",
      "331 Julian Bailey 7.85\n",
      "332 Katie Wrigglesworth 14.21\n",
      "333 Kay 12.2\n",
      "334 Linda Bussey 12.83\n",
      "335 Linda Marshall 12.43\n",
      "336 Marc Steele 7.79\n",
      "337 Martin Steele 9.92\n",
      "338 Rachel Smith 8.81\n",
      "339 Sarah Rawlings 9.77\n",
      "340 Steve Gledhill 7.66\n",
      "341 Tim Wrigglesworth 12.09\n",
      "342 Trevor Rhodes 7.09\n",
      "343 Tricia Grant 9.91\n",
      "344 Alison Hartley 10.27\n",
      "345 Amanda Wrigglesworth 12.13\n",
      "346 Angela Storey 13.83\n",
      "347 Anne Blakey 12.14\n",
      "348 Barbara Stow 11.52\n",
      "349 Brian Perfitt 7.88\n",
      "350 Caroline Ward 11.26\n",
      "351 Cathryn Smith 9.72\n",
      "352 Christine Rhodes 11.61\n",
      "353 Claire Tailford 8.09\n",
      "354 Daniel Kirkham 7.51\n",
      "355 Debra Grant 9.24\n",
      "356 Gareth Harland 6.79\n",
      "357 Gary Popple 8.67\n",
      "358 Gillian Jago 8.91\n",
      "359 Ian Storey 7.98\n",
      "360 Ian Stow 7.77\n",
      "361 Jayne Robinson 8.44\n",
      "362 Julian Bailey 7.47\n",
      "363 Katie Wrigglesworth 12.12\n",
      "364 Leona Shannon 7.71\n",
      "365 Linda Marshall 12.17\n",
      "366 Marc Steele 7.67\n",
      "367 Paul Stanhope 7.04\n",
      "368 Richard Phelps 7.92\n",
      "369 Sam Binns 10.34\n",
      "370 Sarah Myers 9.12\n",
      "371 Sarah Rawlings 8.49\n",
      "372 Steve Gledhill 8.09\n",
      "373 Trevor Rhodes 6.79\n",
      "374 Tricia Grant 9.46\n",
      "375 Barbara Stow 11.73\n",
      "376 Brian Perfitt 7.96\n",
      "377 Caroline Hardaker 10.31\n",
      "378 Caroline Ward 11.59\n",
      "379 Cathryn Smith 10.11\n",
      "380 Gareth Harland 6.92\n",
      "381 Jackie Bywater 9.63\n",
      "382 Jayne Robinson 8.39\n",
      "383 Rita 13.49\n",
      "384 Sarah Rawlings 8.67\n",
      "385 Cathryn Smith 9.07\n",
      "386 Daniel Kirkham 7.68\n",
      "387 David Lamont 8.73\n",
      "388 Gary Popple 8.31\n",
      "389 Ian Dowsland 7.66\n",
      "390 Jackie Bywater 9.2\n",
      "391 Julian Bailey 7.86\n",
      "392 Katie Wrigglesworth 11.07\n",
      "393 Marc Steele 7.54\n",
      "394 Robert Sutton 7.81\n",
      "395 Taylor Waddell 6.81\n",
      "396 Caroline Ward 11.14\n",
      "397 Debra Grant 9.57\n",
      "398 Gillian Brown 10.04\n",
      "399 Gillian Richardson 13.11\n",
      "400 Jackie Bywater 9.03\n",
      "401 James Kilkenny 7.28\n",
      "402 Katie Wrigglesworth 13.14\n",
      "403 Marc Steele 8.35\n",
      "404 Mark Jackson 7.27\n",
      "405 Rebecca Richardson 13.14\n",
      "406 Tricia Grant 9.57\n",
      "407 Alison Hartley 9.99\n",
      "408 Angela Storey 12.49\n",
      "409 Brian Perfitt 7.68\n",
      "410 Caroline Ward 11.09\n",
      "411 Gareth Harland 7.7\n",
      "412 Gary Popple 7.98\n",
      "413 Gillian Richardson 12.57\n",
      "414 Ian Stow 7.72\n",
      "415 Jayne Robinson 8.38\n",
      "416 Katie Wrigglesworth 12.48\n",
      "417 Kelly 11.23\n",
      "418 Lorraine McKnight 10.98\n",
      "419 Marc Steele 8.26\n",
      "420 Mark Jackson 6.55\n",
      "421 Martin Steele 9.14\n",
      "422 Sarah Rawlings 8.7\n",
      "423 Trevor Rhodes 6.91\n"
     ]
    }
   ],
   "source": [
    "def add_runner(runner, runner_list):\n",
    "    return runner_list.append(runner)\n",
    "\n",
    "runner_list = []\n",
    "for index, row in df.iterrows():\n",
    "    print(index, row['Runner'], row['Pace'])\n",
    "    if row['Runner'] in runner_list:\n",
    "        pass\n",
    "    else:\n",
    "        add_runner(row['Runner'], runner_list)"
   ]
  },
  {
   "cell_type": "code",
   "execution_count": 7,
   "metadata": {
    "collapsed": false,
    "deletable": true,
    "editable": true
   },
   "outputs": [
    {
     "name": "stdout",
     "output_type": "stream",
     "text": [
      "List of runners:  ['Alison Hartley', 'Brian Perfitt', 'Christopher Stanhope', 'Claire Downey', 'Claire Tailford', 'Craig Bingham', 'Gareth Harland', 'Harpal Singh', 'James Goodall', 'Marc Steele', 'Paul Stanhope', 'Sarah Rawlings', 'Shihab Basit', 'Basit Khalid', 'Christine Rhodes', 'Merane Todd', 'Steve Gledhill', 'Trevor Rhodes', 'Tricia Grant', 'Vanessa Groom', 'Amanda Wrigglesworth', 'Amy Wrigglesworth', 'Chris Everett', 'Joann Sahni', 'John D', 'Katie Wrigglesworth', 'Lorraine McKnight', 'Robert Sutton', 'Sara Basit', 'Tim Wrigglesworth', 'Angela Storey', 'Ian Storey', 'Liz Robinson', 'Rachel Rostron', 'Sam Robinson', 'David Sheppard', 'Garry Ellison', 'Hazel Murgatroyd', 'Ian Stow', 'James Kilkenny', 'Jayne Robinson', 'Nicola Burton', 'Rebecca Trueman', 'Alison Rawson', 'Angela Charge', 'Barbara Stow', 'Emma Denton', 'Gary Popple', 'Gillian Jago', 'Harjyot Hayer', 'Jennifer Briedis', 'Mary Coulton', 'Michelle Barstow', 'Rachel Smith', 'Sharon Popple', 'Suzanne Woods', 'Clare Fletcher', 'Gillian Brown', 'Jon Robinson', 'Robert Popple', 'Susan Woodward', 'Taylor Waddell', 'Nav Unknown', 'Linda Bussey', 'James Thomas', 'Martin Steele', 'Sarah Goddard', 'Sarah Griffin', 'Gyorgy Imris', 'Julie Steele', 'Peter Downes', 'Dan Mackenzie', 'Debra Grant', 'Faye Corrigan', 'Jenny Rogers-Thomas', 'Tracey Corrigan', 'Aaron', 'Caroline Hardaker', 'Carson Steele', 'Helen Freeman', 'Kathryn Lucas', 'Lazzlo', 'Rhea Sutcliffe', 'Angela Cunningham', 'Carol Green', 'Caroline Ward', 'Laura Cunningham', 'Russel Naylor', 'Daniel Kirkham', 'Davinda', 'Ian Dowsland', 'Mark Hayward', 'Cathryn Smith', 'Anne Blakey', 'Debbie Bland', 'Julian Bailey', 'Kay', 'Linda Marshall', 'Leona Shannon', 'Richard Phelps', 'Sam Binns', 'Sarah Myers', 'Jackie Bywater', 'Rita', 'David Lamont', 'Gillian Richardson', 'Mark Jackson', 'Rebecca Richardson', 'Kelly']\n"
     ]
    }
   ],
   "source": [
    "print('List of runners: ', runner_list)"
   ]
  },
  {
   "cell_type": "code",
   "execution_count": 41,
   "metadata": {
    "collapsed": false,
    "deletable": true,
    "editable": true
   },
   "outputs": [
    {
     "data": {
      "text/plain": [
       "__main__.Person"
      ]
     },
     "execution_count": 41,
     "metadata": {},
     "output_type": "execute_result"
    }
   ],
   "source": [
    "class Person:\n",
    "    def __init__(self, name):\n",
    "        self.name = name.title()\n",
    "        self.created_date = '14022016'\n",
    "        pass\n",
    "    def __str__(self):\n",
    "        return '{} started on {}'.format(self.name, self.created_date)\n",
    "Person"
   ]
  },
  {
   "cell_type": "code",
   "execution_count": 33,
   "metadata": {
    "collapsed": false,
    "deletable": true,
    "editable": true
   },
   "outputs": [
    {
     "data": {
      "text/plain": [
       "<__main__.Person at 0x12a79dc1630>"
      ]
     },
     "execution_count": 33,
     "metadata": {},
     "output_type": "execute_result"
    }
   ],
   "source": [
    "steve = Person('steve','14032017')\n",
    "steve\n"
   ]
  },
  {
   "cell_type": "code",
   "execution_count": 34,
   "metadata": {
    "collapsed": false,
    "deletable": true,
    "editable": true
   },
   "outputs": [
    {
     "name": "stdout",
     "output_type": "stream",
     "text": [
      "Fred started on 22012017\n",
      "Steve started on 14032017\n"
     ]
    }
   ],
   "source": [
    "print(fred)\n",
    "print(steve)\n"
   ]
  },
  {
   "cell_type": "code",
   "execution_count": 21,
   "metadata": {
    "collapsed": true
   },
   "outputs": [],
   "source": [
    "names = ['joe', 'susan']\n"
   ]
  },
  {
   "cell_type": "code",
   "execution_count": 22,
   "metadata": {
    "collapsed": false
   },
   "outputs": [
    {
     "ename": "SyntaxError",
     "evalue": "can't assign to function call (<ipython-input-22-4239b8a5ada7>, line 2)",
     "output_type": "error",
     "traceback": [
      "\u001b[1;36m  File \u001b[1;32m\"<ipython-input-22-4239b8a5ada7>\"\u001b[1;36m, line \u001b[1;32m2\u001b[0m\n\u001b[1;33m    str(name) = Person(name)\u001b[0m\n\u001b[1;37m    ^\u001b[0m\n\u001b[1;31mSyntaxError\u001b[0m\u001b[1;31m:\u001b[0m can't assign to function call\n"
     ]
    }
   ],
   "source": [
    "for name in names:\n",
    "    Person(name)"
   ]
  },
  {
   "cell_type": "code",
   "execution_count": 23,
   "metadata": {
    "collapsed": true
   },
   "outputs": [],
   "source": [
    "name = 'Stephen'\n",
    "name = Person(name, 'jan 15')"
   ]
  },
  {
   "cell_type": "code",
   "execution_count": 24,
   "metadata": {
    "collapsed": false
   },
   "outputs": [
    {
     "ename": "NameError",
     "evalue": "name 'Stephen' is not defined",
     "output_type": "error",
     "traceback": [
      "\u001b[1;31m---------------------------------------------------------------------------\u001b[0m",
      "\u001b[1;31mNameError\u001b[0m                                 Traceback (most recent call last)",
      "\u001b[1;32m<ipython-input-24-25c5019d15c7>\u001b[0m in \u001b[0;36m<module>\u001b[1;34m()\u001b[0m\n\u001b[1;32m----> 1\u001b[1;33m \u001b[0mStephen\u001b[0m\u001b[1;33m\u001b[0m\u001b[0m\n\u001b[0m",
      "\u001b[1;31mNameError\u001b[0m: name 'Stephen' is not defined"
     ]
    }
   ],
   "source": [
    "Stephen"
   ]
  },
  {
   "cell_type": "code",
   "execution_count": 25,
   "metadata": {
    "collapsed": false
   },
   "outputs": [
    {
     "data": {
      "text/plain": [
       "<__main__.Person at 0x12a79c84518>"
      ]
     },
     "execution_count": 25,
     "metadata": {},
     "output_type": "execute_result"
    }
   ],
   "source": [
    "name"
   ]
  },
  {
   "cell_type": "code",
   "execution_count": 26,
   "metadata": {
    "collapsed": false
   },
   "outputs": [
    {
     "name": "stdout",
     "output_type": "stream",
     "text": [
      "Stephen started on jan 15\n"
     ]
    }
   ],
   "source": [
    "print(name)"
   ]
  },
  {
   "cell_type": "code",
   "execution_count": 62,
   "metadata": {
    "collapsed": false
   },
   "outputs": [],
   "source": [
    "runners = {name: Person(name=name) for name in runner_list}"
   ]
  },
  {
   "cell_type": "code",
   "execution_count": 55,
   "metadata": {
    "collapsed": false
   },
   "outputs": [
    {
     "data": {
      "text/plain": [
       "['Alison Hartley',\n",
       " 'Brian Perfitt',\n",
       " 'Christopher Stanhope',\n",
       " 'Claire Downey',\n",
       " 'Claire Tailford',\n",
       " 'Craig Bingham',\n",
       " 'Gareth Harland',\n",
       " 'Harpal Singh',\n",
       " 'James Goodall',\n",
       " 'Marc Steele',\n",
       " 'Paul Stanhope',\n",
       " 'Sarah Rawlings',\n",
       " 'Shihab Basit',\n",
       " 'Basit Khalid',\n",
       " 'Christine Rhodes',\n",
       " 'Merane Todd',\n",
       " 'Steve Gledhill',\n",
       " 'Trevor Rhodes',\n",
       " 'Tricia Grant',\n",
       " 'Vanessa Groom',\n",
       " 'Amanda Wrigglesworth',\n",
       " 'Amy Wrigglesworth',\n",
       " 'Chris Everett',\n",
       " 'Joann Sahni',\n",
       " 'John D',\n",
       " 'Katie Wrigglesworth',\n",
       " 'Lorraine McKnight',\n",
       " 'Robert Sutton',\n",
       " 'Sara Basit',\n",
       " 'Tim Wrigglesworth',\n",
       " 'Angela Storey',\n",
       " 'Ian Storey',\n",
       " 'Liz Robinson',\n",
       " 'Rachel Rostron',\n",
       " 'Sam Robinson',\n",
       " 'David Sheppard',\n",
       " 'Garry Ellison',\n",
       " 'Hazel Murgatroyd',\n",
       " 'Ian Stow',\n",
       " 'James Kilkenny',\n",
       " 'Jayne Robinson',\n",
       " 'Nicola Burton',\n",
       " 'Rebecca Trueman',\n",
       " 'Alison Rawson',\n",
       " 'Angela Charge',\n",
       " 'Barbara Stow',\n",
       " 'Emma Denton',\n",
       " 'Gary Popple',\n",
       " 'Gillian Jago',\n",
       " 'Harjyot Hayer',\n",
       " 'Jennifer Briedis',\n",
       " 'Mary Coulton',\n",
       " 'Michelle Barstow',\n",
       " 'Rachel Smith',\n",
       " 'Sharon Popple',\n",
       " 'Suzanne Woods',\n",
       " 'Clare Fletcher',\n",
       " 'Gillian Brown',\n",
       " 'Jon Robinson',\n",
       " 'Robert Popple',\n",
       " 'Susan Woodward',\n",
       " 'Taylor Waddell',\n",
       " 'Nav Unknown',\n",
       " 'Linda Bussey',\n",
       " 'James Thomas',\n",
       " 'Martin Steele',\n",
       " 'Sarah Goddard',\n",
       " 'Sarah Griffin',\n",
       " 'Gyorgy Imris',\n",
       " 'Julie Steele',\n",
       " 'Peter Downes',\n",
       " 'Dan Mackenzie',\n",
       " 'Debra Grant',\n",
       " 'Faye Corrigan',\n",
       " 'Jenny Rogers-Thomas',\n",
       " 'Tracey Corrigan',\n",
       " 'Aaron',\n",
       " 'Caroline Hardaker',\n",
       " 'Carson Steele',\n",
       " 'Helen Freeman',\n",
       " 'Kathryn Lucas',\n",
       " 'Lazzlo',\n",
       " 'Rhea Sutcliffe',\n",
       " 'Angela Cunningham',\n",
       " 'Carol Green',\n",
       " 'Caroline Ward',\n",
       " 'Laura Cunningham',\n",
       " 'Russel Naylor',\n",
       " 'Daniel Kirkham',\n",
       " 'Davinda',\n",
       " 'Ian Dowsland',\n",
       " 'Mark Hayward',\n",
       " 'Cathryn Smith',\n",
       " 'Anne Blakey',\n",
       " 'Debbie Bland',\n",
       " 'Julian Bailey',\n",
       " 'Kay',\n",
       " 'Linda Marshall',\n",
       " 'Leona Shannon',\n",
       " 'Richard Phelps',\n",
       " 'Sam Binns',\n",
       " 'Sarah Myers',\n",
       " 'Jackie Bywater',\n",
       " 'Rita',\n",
       " 'David Lamont',\n",
       " 'Gillian Richardson',\n",
       " 'Mark Jackson',\n",
       " 'Rebecca Richardson',\n",
       " 'Kelly']"
      ]
     },
     "execution_count": 55,
     "metadata": {},
     "output_type": "execute_result"
    }
   ],
   "source": [
    "runner_list"
   ]
  },
  {
   "cell_type": "code",
   "execution_count": 57,
   "metadata": {
    "collapsed": false
   },
   "outputs": [
    {
     "name": "stdout",
     "output_type": "stream",
     "text": [
      "becky\n",
      "charlie\n",
      "ann\n"
     ]
    }
   ],
   "source": [
    "for runner in runners:\n",
    "    print(runner)"
   ]
  },
  {
   "cell_type": "code",
   "execution_count": 58,
   "metadata": {
    "collapsed": false
   },
   "outputs": [
    {
     "data": {
      "text/plain": [
       "{'ann': <__main__.Person at 0x12a79c84b70>,\n",
       " 'becky': <__main__.Person at 0x12a79c84978>,\n",
       " 'charlie': <__main__.Person at 0x12a79c84198>}"
      ]
     },
     "execution_count": 58,
     "metadata": {},
     "output_type": "execute_result"
    }
   ],
   "source": [
    "runners"
   ]
  },
  {
   "cell_type": "code",
   "execution_count": 60,
   "metadata": {
    "collapsed": false
   },
   "outputs": [
    {
     "name": "stdout",
     "output_type": "stream",
     "text": [
      "ann\n"
     ]
    }
   ],
   "source": [
    "print('ann')"
   ]
  },
  {
   "cell_type": "code",
   "execution_count": null,
   "metadata": {
    "collapsed": true
   },
   "outputs": [],
   "source": []
  },
  {
   "cell_type": "code",
   "execution_count": null,
   "metadata": {
    "collapsed": true
   },
   "outputs": [],
   "source": []
  }
 ],
 "metadata": {
  "kernelspec": {
   "display_name": "Python 3",
   "language": "python",
   "name": "python3"
  },
  "language_info": {
   "codemirror_mode": {
    "name": "ipython",
    "version": 3
   },
   "file_extension": ".py",
   "mimetype": "text/x-python",
   "name": "python",
   "nbconvert_exporter": "python",
   "pygments_lexer": "ipython3",
   "version": "3.5.0"
  }
 },
 "nbformat": 4,
 "nbformat_minor": 0
}
