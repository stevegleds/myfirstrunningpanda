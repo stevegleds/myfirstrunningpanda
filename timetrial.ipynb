{
 "cells": [
  {
   "cell_type": "code",
   "execution_count": 1,
   "metadata": {
    "collapsed": true,
    "deletable": true,
    "editable": true
   },
   "outputs": [],
   "source": [
    "import pandas as pd\n",
    "import numpy as np\n",
    "from readwrite import process_sourcefile\n"
   ]
  },
  {
   "cell_type": "code",
   "execution_count": 2,
   "metadata": {
    "collapsed": true,
    "deletable": true,
    "editable": true
   },
   "outputs": [],
   "source": [
    "sourcefile = 'timetrialfull.csv'\n",
    "df = pd.read_csv(sourcefile, parse_dates=['Date'], dayfirst=True)  # creates df with header conveniently inferred by default"
   ]
  },
  {
   "cell_type": "code",
   "execution_count": 1,
   "metadata": {
    "collapsed": true,
    "deletable": true,
    "editable": true
   },
   "outputs": [],
   "source": [
    "import os"
   ]
  },
  {
   "cell_type": "code",
   "execution_count": 28,
   "metadata": {
    "collapsed": false,
    "deletable": true,
    "editable": true
   },
   "outputs": [
    {
     "data": {
      "text/plain": [
       "['february2017.pdf',\n",
       " 'timetrial.xlsm',\n",
       " 'timetrial160905.csv',\n",
       " 'timetrial161003.csv',\n",
       " 'timetrial161107.csv',\n",
       " 'timetrial161205.csv',\n",
       " 'timetrial170206.csv',\n",
       " 'timetrial170306.csv',\n",
       " 'timetrialbrief.csv',\n",
       " 'timetrialcomplete.csv',\n",
       " 'timetrialfull.csv']"
      ]
     },
     "execution_count": 28,
     "metadata": {},
     "output_type": "execute_result"
    }
   ],
   "source": [
    "folder = os.path.join('','results')\n",
    "try:\n",
    "    parent = os.listdir(folder)\n",
    "except:\n",
    "    print('No such folder.')\n",
    "parent.sort()\n",
    "parent"
   ]
  },
  {
   "cell_type": "code",
   "execution_count": 35,
   "metadata": {
    "collapsed": false
   },
   "outputs": [
    {
     "name": "stdout",
     "output_type": "stream",
     "text": [
      "{} february2017.pdf\n",
      "{} timetrial.xlsm\n",
      "{} timetrial160905.csv\n",
      "{} timetrial161003.csv\n",
      "{} timetrial161107.csv\n",
      "{} timetrial161205.csv\n",
      "{} timetrial170206.csv\n",
      "{} timetrial170306.csv\n",
      "{} timetrialbrief.csv\n",
      "{} timetrialcomplete.csv\n",
      "{} timetrialfull.csv\n"
     ]
    }
   ],
   "source": [
    "def getfilelist(folder):\n",
    "    try:\n",
    "        filelist = os.listdir(folder)\n",
    "    except:\n",
    "        print('No such folder.')\n",
    "    for file in sorted(filelist):\n",
    "        print('{}', file .format('file'))\n",
    "getfilelist(folder)"
   ]
  },
  {
   "cell_type": "code",
   "execution_count": null,
   "metadata": {
    "collapsed": true
   },
   "outputs": [],
   "source": []
  }
 ],
 "metadata": {
  "kernelspec": {
   "display_name": "Python 3",
   "language": "python",
   "name": "python3"
  },
  "language_info": {
   "codemirror_mode": {
    "name": "ipython",
    "version": 3
   },
   "file_extension": ".py",
   "mimetype": "text/x-python",
   "name": "python",
   "nbconvert_exporter": "python",
   "pygments_lexer": "ipython3",
   "version": "3.5.0"
  }
 },
 "nbformat": 4,
 "nbformat_minor": 0
}
