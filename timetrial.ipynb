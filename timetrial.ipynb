{
 "cells": [
  {
   "cell_type": "code",
   "execution_count": 5,
   "metadata": {
    "collapsed": false,
    "deletable": true,
    "editable": true
   },
   "outputs": [],
   "source": [
    "import pandas as pd\n",
    "import numpy as np\n",
    "import os\n",
    "from readwrite import process_sourcefile\n"
   ]
  },
  {
   "cell_type": "code",
   "execution_count": 30,
   "metadata": {
    "collapsed": false,
    "deletable": true,
    "editable": true
   },
   "outputs": [],
   "source": [
    "folder = os.path.join('','results')\n",
    "def getfilelist(folder):\n",
    "    try:\n",
    "        filelist = os.listdir(folder)\n",
    "    except:\n",
    "        print('No such folder.')\n",
    "    filechoice = []\n",
    "    for file in sorted(filelist):\n",
    "        filechoice.append(file)\n",
    "    return filechoice\n"
   ]
  },
  {
   "cell_type": "code",
   "execution_count": 31,
   "metadata": {
    "collapsed": false
   },
   "outputs": [
    {
     "data": {
      "text/plain": [
       "['february2017.pdf',\n",
       " 'timetrial.xlsm',\n",
       " 'timetrial160905.csv',\n",
       " 'timetrial161003.csv',\n",
       " 'timetrial161107.csv',\n",
       " 'timetrial161205.csv',\n",
       " 'timetrial170206.csv',\n",
       " 'timetrial170306.csv',\n",
       " 'timetrialbrief.csv',\n",
       " 'timetrialcomplete.csv',\n",
       " 'timetrialfull.csv']"
      ]
     },
     "execution_count": 31,
     "metadata": {},
     "output_type": "execute_result"
    }
   ],
   "source": [
    "\n",
    "filelist = getfilelist(folder)\n",
    "type(filelist)\n",
    "filelist"
   ]
  },
  {
   "cell_type": "code",
   "execution_count": 33,
   "metadata": {
    "collapsed": false,
    "deletable": true,
    "editable": true
   },
   "outputs": [
    {
     "name": "stdout",
     "output_type": "stream",
     "text": [
      "(0, 'february2017.pdf')\n",
      "(1, 'timetrial.xlsm')\n",
      "(2, 'timetrial160905.csv')\n",
      "(3, 'timetrial161003.csv')\n",
      "(4, 'timetrial161107.csv')\n",
      "(5, 'timetrial161205.csv')\n",
      "(6, 'timetrial170206.csv')\n",
      "(7, 'timetrial170306.csv')\n",
      "(8, 'timetrialbrief.csv')\n",
      "(9, 'timetrialcomplete.csv')\n",
      "(10, 'timetrialfull.csv')\n"
     ]
    }
   ],
   "source": [
    "for file in enumerate(filelist):\n",
    "    print(file)"
   ]
  },
  {
   "cell_type": "code",
   "execution_count": 37,
   "metadata": {
    "collapsed": false,
    "deletable": true,
    "editable": true
   },
   "outputs": [
    {
     "name": "stdout",
     "output_type": "stream",
     "text": [
      "Which file do you want to use?7\n"
     ]
    },
    {
     "data": {
      "text/plain": [
       "'timetrial170306.csv'"
      ]
     },
     "execution_count": 37,
     "metadata": {},
     "output_type": "execute_result"
    }
   ],
   "source": [
    "choice = int(input('Which file do you want to use?'))\n",
    "chosen = filelist[choice]\n",
    "chosen"
   ]
  },
  {
   "cell_type": "code",
   "execution_count": 35,
   "metadata": {
    "collapsed": false,
    "deletable": true,
    "editable": true
   },
   "outputs": [
    {
     "name": "stdout",
     "output_type": "stream",
     "text": [
      "{} february2017.pdf\n",
      "{} timetrial.xlsm\n",
      "{} timetrial160905.csv\n",
      "{} timetrial161003.csv\n",
      "{} timetrial161107.csv\n",
      "{} timetrial161205.csv\n",
      "{} timetrial170206.csv\n",
      "{} timetrial170306.csv\n",
      "{} timetrialbrief.csv\n",
      "{} timetrialcomplete.csv\n",
      "{} timetrialfull.csv\n"
     ]
    }
   ],
   "source": [
    "def getfilelist(folder):\n",
    "    try:\n",
    "        filelist = os.listdir(folder)\n",
    "    except:\n",
    "        print('No such folder.')\n",
    "    for file in sorted(filelist):\n",
    "        print('{}', file .format('file'))\n",
    "getfilelist(folder)"
   ]
  },
  {
   "cell_type": "code",
   "execution_count": null,
   "metadata": {
    "collapsed": true,
    "deletable": true,
    "editable": true
   },
   "outputs": [],
   "source": []
  }
 ],
 "metadata": {
  "kernelspec": {
   "display_name": "Python 3",
   "language": "python",
   "name": "python3"
  },
  "language_info": {
   "codemirror_mode": {
    "name": "ipython",
    "version": 3
   },
   "file_extension": ".py",
   "mimetype": "text/x-python",
   "name": "python",
   "nbconvert_exporter": "python",
   "pygments_lexer": "ipython3",
   "version": "3.5.1"
  }
 },
 "nbformat": 4,
 "nbformat_minor": 0
}
