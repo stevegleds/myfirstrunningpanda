{
 "cells": [
  {
   "cell_type": "code",
   "execution_count": 1,
   "metadata": {
    "collapsed": true,
    "deletable": true,
    "editable": true
   },
   "outputs": [
    {
     "ename": "NameError",
     "evalue": "name 'runner_list' is not defined",
     "output_type": "error",
     "traceback": [
      "\u001b[1;31m---------------------------------------------------------------------------\u001b[0m",
      "\u001b[1;31mNameError\u001b[0m                                 Traceback (most recent call last)",
      "\u001b[1;32m<ipython-input-1-c66c5449f53e>\u001b[0m in \u001b[0;36m<module>\u001b[1;34m()\u001b[0m\n\u001b[1;32m----> 1\u001b[1;33m \u001b[0mprint\u001b[0m\u001b[1;33m(\u001b[0m\u001b[0mrunner_list\u001b[0m\u001b[1;33m)\u001b[0m\u001b[1;33m\u001b[0m\u001b[0m\n\u001b[0m",
      "\u001b[1;31mNameError\u001b[0m: name 'runner_list' is not defined"
     ]
    }
   ],
   "source": [
    "print(runner_list)"
   ]
  },
  {
   "cell_type": "code",
   "execution_count": 4,
   "metadata": {
    "collapsed": false,
    "deletable": true,
    "editable": true
   },
   "outputs": [
    {
     "data": {
      "text/plain": [
       "-9"
      ]
     },
     "execution_count": 4,
     "metadata": {},
     "output_type": "execute_result"
    }
   ],
   "source": [
    "3-3*6+6\n",
    "\n"
   ]
  },
  {
   "cell_type": "code",
   "execution_count": 2,
   "metadata": {
    "collapsed": false,
    "deletable": true,
    "editable": true
   },
   "outputs": [
    {
     "data": {
      "text/plain": [
       "4"
      ]
     },
     "execution_count": 2,
     "metadata": {},
     "output_type": "execute_result"
    }
   ],
   "source": [
    "2+2"
   ]
  },
  {
   "cell_type": "code",
   "execution_count": 5,
   "metadata": {
    "collapsed": false,
    "deletable": true,
    "editable": true
   },
   "outputs": [
    {
     "name": "stdout",
     "output_type": "stream",
     "text": [
      "The file is either out of date or not found. Please save an up to date file to this folder\n"
     ]
    }
   ],
   "source": [
    "try:\n",
    "    print(process_sourcefile('timetrial.csv'))\n",
    "    data = pd.read_csv('timetrial.csv')  # creates df with header conveniently inferred by default\n",
    "    print(data)\n",
    "except:\n",
    "    print(\"The file is either out of date or not found. Please save an up to date file to this folder\")\n",
    "\n",
    "def add_runner(runner, runner_list):\n",
    "    return runner_list.append(runner)"
   ]
  },
  {
   "cell_type": "code",
   "execution_count": 6,
   "metadata": {
    "collapsed": false,
    "deletable": true,
    "editable": true
   },
   "outputs": [
    {
     "ename": "NameError",
     "evalue": "name 'y' is not defined",
     "output_type": "error",
     "traceback": [
      "\u001b[1;31m---------------------------------------------------------------------------\u001b[0m",
      "\u001b[1;31mNameError\u001b[0m                                 Traceback (most recent call last)",
      "\u001b[1;32m<ipython-input-6-009520053b00>\u001b[0m in \u001b[0;36m<module>\u001b[1;34m()\u001b[0m\n\u001b[1;32m----> 1\u001b[1;33m \u001b[0my\u001b[0m\u001b[1;33m\u001b[0m\u001b[0m\n\u001b[0m",
      "\u001b[1;31mNameError\u001b[0m: name 'y' is not defined"
     ]
    }
   ],
   "source": [
    "y"
   ]
  },
  {
   "cell_type": "code",
   "execution_count": 9,
   "metadata": {
    "collapsed": false,
    "deletable": true,
    "editable": true
   },
   "outputs": [
    {
     "ename": "StdinNotImplementedError",
     "evalue": "raw_input was called, but this frontend does not support input requests.",
     "output_type": "error",
     "traceback": [
      "\u001b[1;31m---------------------------------------------------------------------------\u001b[0m",
      "\u001b[1;31mStdinNotImplementedError\u001b[0m                  Traceback (most recent call last)",
      "\u001b[1;32m<ipython-input-9-8d449a48ad84>\u001b[0m in \u001b[0;36m<module>\u001b[1;34m()\u001b[0m\n\u001b[1;32m----> 1\u001b[1;33m \u001b[0mtext\u001b[0m \u001b[1;33m=\u001b[0m \u001b[0minput\u001b[0m\u001b[1;33m(\u001b[0m\u001b[1;34m'enter some text:'\u001b[0m\u001b[1;33m)\u001b[0m\u001b[1;33m\u001b[0m\u001b[0m\n\u001b[0m\u001b[0;32m      2\u001b[0m \u001b[0mprint\u001b[0m\u001b[1;33m(\u001b[0m\u001b[0mtext\u001b[0m\u001b[1;33m)\u001b[0m\u001b[1;33m\u001b[0m\u001b[0m\n",
      "\u001b[1;32mC:\\Users\\Steve\\myfirstrunningpanda\\lib\\site-packages\\ipykernel\\kernelbase.py\u001b[0m in \u001b[0;36mraw_input\u001b[1;34m(self, prompt)\u001b[0m\n\u001b[0;32m    687\u001b[0m         \u001b[1;32mif\u001b[0m \u001b[1;32mnot\u001b[0m \u001b[0mself\u001b[0m\u001b[1;33m.\u001b[0m\u001b[0m_allow_stdin\u001b[0m\u001b[1;33m:\u001b[0m\u001b[1;33m\u001b[0m\u001b[0m\n\u001b[0;32m    688\u001b[0m             raise StdinNotImplementedError(\n\u001b[1;32m--> 689\u001b[1;33m                 \u001b[1;34m\"raw_input was called, but this frontend does not support input requests.\"\u001b[0m\u001b[1;33m\u001b[0m\u001b[0m\n\u001b[0m\u001b[0;32m    690\u001b[0m             )\n\u001b[0;32m    691\u001b[0m         return self._input_request(str(prompt),\n",
      "\u001b[1;31mStdinNotImplementedError\u001b[0m: raw_input was called, but this frontend does not support input requests."
     ]
    }
   ],
   "source": [
    "text = input('enter some text:')\n",
    "print(text)"
   ]
  },
  {
   "cell_type": "code",
   "execution_count": 10,
   "metadata": {
    "collapsed": false,
    "deletable": true,
    "editable": true
   },
   "outputs": [
    {
     "ename": "StdinNotImplementedError",
     "evalue": "raw_input was called, but this frontend does not support input requests.",
     "output_type": "error",
     "traceback": [
      "\u001b[1;31m---------------------------------------------------------------------------\u001b[0m",
      "\u001b[1;31mStdinNotImplementedError\u001b[0m                  Traceback (most recent call last)",
      "\u001b[1;32m<ipython-input-10-c0bd90fd7c84>\u001b[0m in \u001b[0;36m<module>\u001b[1;34m()\u001b[0m\n\u001b[1;32m----> 1\u001b[1;33m \u001b[0mtext\u001b[0m \u001b[1;33m=\u001b[0m \u001b[0minput\u001b[0m\u001b[1;33m(\u001b[0m\u001b[1;34m'hi'\u001b[0m\u001b[1;33m)\u001b[0m\u001b[1;33m\u001b[0m\u001b[0m\n\u001b[0m",
      "\u001b[1;32mC:\\Users\\Steve\\myfirstrunningpanda\\lib\\site-packages\\ipykernel\\kernelbase.py\u001b[0m in \u001b[0;36mraw_input\u001b[1;34m(self, prompt)\u001b[0m\n\u001b[0;32m    687\u001b[0m         \u001b[1;32mif\u001b[0m \u001b[1;32mnot\u001b[0m \u001b[0mself\u001b[0m\u001b[1;33m.\u001b[0m\u001b[0m_allow_stdin\u001b[0m\u001b[1;33m:\u001b[0m\u001b[1;33m\u001b[0m\u001b[0m\n\u001b[0;32m    688\u001b[0m             raise StdinNotImplementedError(\n\u001b[1;32m--> 689\u001b[1;33m                 \u001b[1;34m\"raw_input was called, but this frontend does not support input requests.\"\u001b[0m\u001b[1;33m\u001b[0m\u001b[0m\n\u001b[0m\u001b[0;32m    690\u001b[0m             )\n\u001b[0;32m    691\u001b[0m         return self._input_request(str(prompt),\n",
      "\u001b[1;31mStdinNotImplementedError\u001b[0m: raw_input was called, but this frontend does not support input requests."
     ]
    }
   ],
   "source": [
    "text = input('hi')"
   ]
  },
  {
   "cell_type": "code",
   "execution_count": 1,
   "metadata": {
    "collapsed": false,
    "deletable": true,
    "editable": true
   },
   "outputs": [
    {
     "ename": "IndentationError",
     "evalue": "unexpected indent (<ipython-input-1-75fdf18a1733>, line 2)",
     "output_type": "error",
     "traceback": [
      "\u001b[1;36m  File \u001b[1;32m\"<ipython-input-1-75fdf18a1733>\"\u001b[1;36m, line \u001b[1;32m2\u001b[0m\n\u001b[1;33m    print(data)\u001b[0m\n\u001b[1;37m    ^\u001b[0m\n\u001b[1;31mIndentationError\u001b[0m\u001b[1;31m:\u001b[0m unexpected indent\n"
     ]
    }
   ],
   "source": [
    "data = pd.read_csv('timetrial.csv')  # creates df with header conveniently inferred by default\n",
    "    print(data)"
   ]
  },
  {
   "cell_type": "code",
   "execution_count": 6,
   "metadata": {
    "collapsed": false,
    "deletable": true,
    "editable": true
   },
   "outputs": [
    {
     "name": "stdout",
     "output_type": "stream",
     "text": [
      "           Date                Runner      Time   Pace  Digitime\n",
      "0    05/01/2015         James Goodall  00:18:30   6.17      18.5\n",
      "1    05/01/2015         Paul Stanhope  00:20:33   6.85      20.6\n",
      "2    05/01/2015          Shihab Basit  00:23:11   7.73      23.2\n",
      "3    05/01/2015         Craig Bingham  00:23:15   7.75      23.3\n",
      "4    05/01/2015        Chris Stanhope  00:23:32   7.84      23.5\n",
      "5    05/01/2015       Claire Tailford  00:23:38   7.88      23.6\n",
      "6    05/01/2015        Sarah Rawlings  00:25:47   8.59      25.8\n",
      "7    05/01/2015        Gareth Harland  00:25:49   8.61      25.8\n",
      "8    05/01/2015           Marc Steele  00:26:16   8.76      26.3\n",
      "9    05/01/2015         Brian Perfitt  00:27:03   9.02      27.1\n",
      "10   05/01/2015         Claire Downey  00:30:30  10.17      30.5\n",
      "11   05/01/2015        Alison Hartley  00:31:18  10.43      31.3\n",
      "12   05/01/2015          Harpal Singh  00:31:37  10.54      31.6\n",
      "13   02/02/2015         Paul Stanhope  00:21:39   7.22      21.7\n",
      "14   02/02/2015         Trevor Rhodes  00:22:54   7.63      22.9\n",
      "15   02/02/2015       Claire Tailford  00:23:22   7.79      23.4\n",
      "16   02/02/2015         Brian Perfitt  00:23:48   7.93      23.8\n",
      "17   02/02/2015           Marc Steele  00:24:09   8.05      24.2\n",
      "18   02/02/2015      Stephen Gledhill  00:24:14   8.08      24.2\n",
      "19   02/02/2015        Gareth Harland  00:28:04   9.36      28.1\n",
      "20   02/02/2015        Sarah Rawlings  00:28:04   9.36      28.1\n",
      "21   02/02/2015         Vanessa Groom  00:29:14   9.74      29.2\n",
      "22   02/02/2015          Basit Khalid  00:29:42   9.90      29.7\n",
      "23   02/02/2015           Merane Todd  00:29:53   9.96      29.9\n",
      "24   02/02/2015        Alison Hartley  00:29:54   9.97      29.9\n",
      "25   02/02/2015      Christine Rhodes  00:39:33  13.18      39.6\n",
      "26   02/02/2015          Tricia Grant  00:39:33  13.18      39.6\n",
      "27   02/03/2015         Craig Bingham  00:22:58   7.66      23.0\n",
      "28   02/03/2015       Claire Tailford  00:23:11   7.73      23.2\n",
      "29   02/03/2015                John D  00:23:17   7.76      23.3\n",
      "..          ...                   ...       ...    ...       ...\n",
      "179  07/12/2015         Sharon Popple  00:37:31  12.51      37.5\n",
      "180  07/12/2015     Amy Wrigglesworth  00:37:34  12.52      37.6\n",
      "181  07/12/2015          Linda Bussey  00:39:14  13.08      39.2\n",
      "182  04/01/2016         Angela Charge  00:45:22  15.12      45.4\n",
      "183  04/01/2016         Trevor Rhodes  00:38:24  12.80      38.4\n",
      "184  04/01/2016          James Thomas  00:38:24  12.80      38.4\n",
      "185  04/01/2016   Katie Wrigglesworth  00:38:06  12.70      38.1\n",
      "186  04/01/2016  Amanda Wrigglesworth  00:37:59  12.66      38.0\n",
      "187  04/01/2016     Amy Wrigglesworth  00:34:32  11.51      34.5\n",
      "188  04/01/2016     Tim Wrigglesworth  00:34:32  11.51      34.5\n",
      "189  04/01/2016          Basit Khalid  00:32:13  10.74      32.2\n",
      "190  04/01/2016     Lorraine McKnight  00:31:41  10.56      31.7\n",
      "191  04/01/2016          Barbara Stow  00:31:20  10.44      31.3\n",
      "192  04/01/2016         Martin Steele  00:27:52   9.29      27.9\n",
      "193  04/01/2016         Sarah Griffin  00:26:35   8.86      26.6\n",
      "194  04/01/2016         Brian Perfitt  00:26:20   8.78      26.3\n",
      "195  04/01/2016        Jayne Robinson  00:26:00   8.67      26.0\n",
      "196  04/01/2016          Gillian Jago  00:25:54   8.63      25.9\n",
      "197  04/01/2016        Gareth Harland  00:25:23   8.46      25.4\n",
      "198  04/01/2016        Sarah Rawlings  00:25:23   8.46      25.4\n",
      "199  04/01/2016          Liz Robinson   00:25.1   8.38      25.1\n",
      "200  04/01/2016          Sam Robinson  00:25:00   8.33      25.0\n",
      "201  04/01/2016           Gary Popple  00:24:28   8.16      24.5\n",
      "202  04/01/2016         Sarah Goddard  00:23:19   7.77      23.3\n",
      "203  04/01/2016      Stephen Gledhill  00:23:04   7.69      23.1\n",
      "204  04/01/2016           Marc Steele  00:22:36   7.53      22.6\n",
      "205  04/01/2016        James Kilkenny  00:22:20   7.44      22.3\n",
      "206  04/01/2016              Ian Stow   00:22.0   7.34      22.0\n",
      "207  04/01/2016          Shihab Basit  00:21:55   7.31      21.9\n",
      "208  04/01/2016        Taylor Waddell  00:19:03   6.35      19.1\n",
      "\n",
      "[209 rows x 5 columns]\n"
     ]
    }
   ],
   "source": [
    "import pandas as pd\n",
    "data = pd.read_csv('timetrial.csv')  # creates df with header conveniently inferred by default\n",
    "print(data)"
   ]
  },
  {
   "cell_type": "code",
   "execution_count": 8,
   "metadata": {
    "collapsed": false,
    "deletable": true,
    "editable": true
   },
   "outputs": [
    {
     "data": {
      "text/plain": [
       "<pandas.core.groupby.SeriesGroupBy object at 0x07288710>"
      ]
     },
     "execution_count": 8,
     "metadata": {},
     "output_type": "execute_result"
    }
   ],
   "source": [
    "# pbs = data.groupby(['Runner'])['Pace'].transform(min) == data['Pace']\n",
    "pbs = data.groupby(['Runner'])['Pace']\n",
    "# data[pbs]\n",
    "pbs\n",
    "# for index, rows in runner_group.iterrows():\n",
    "#    print(runner_group[runner])"
   ]
  },
  {
   "cell_type": "code",
   "execution_count": 9,
   "metadata": {
    "collapsed": false,
    "deletable": true,
    "editable": true
   },
   "outputs": [
    {
     "data": {
      "text/plain": [
       "pandas.core.groupby.SeriesGroupBy"
      ]
     },
     "execution_count": 9,
     "metadata": {},
     "output_type": "execute_result"
    }
   ],
   "source": [
    "type(pbs)"
   ]
  },
  {
   "cell_type": "code",
   "execution_count": null,
   "metadata": {
    "collapsed": true
   },
   "outputs": [],
   "source": []
  }
 ],
 "metadata": {
  "kernelspec": {
   "display_name": "Python 3",
   "language": "python",
   "name": "python3"
  },
  "language_info": {
   "codemirror_mode": {
    "name": "ipython",
    "version": 3
   },
   "file_extension": ".py",
   "mimetype": "text/x-python",
   "name": "python",
   "nbconvert_exporter": "python",
   "pygments_lexer": "ipython3",
   "version": "3.5.1"
  }
 },
 "nbformat": 4,
 "nbformat_minor": 0
}
